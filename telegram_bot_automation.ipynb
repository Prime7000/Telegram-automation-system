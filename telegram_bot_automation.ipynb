{
 "cells": [
  {
   "cell_type": "code",
   "execution_count": 1,
   "metadata": {},
   "outputs": [],
   "source": [
    "# getting data from server database\n",
    "\n",
    "import sqlite3\n",
    "\n",
    "conn = sqlite3.connect('db.sqlite3')\n",
    "cursor = conn.cursor()"
   ]
  },
  {
   "cell_type": "code",
   "execution_count": 2,
   "metadata": {},
   "outputs": [
    {
     "name": "stdout",
     "output_type": "stream",
     "text": [
      "[('django_migrations',), ('sqlite_sequence',), ('auth_group_permissions',), ('auth_user_groups',), ('auth_user_user_permissions',), ('django_admin_log',), ('django_content_type',), ('auth_permission',), ('auth_group',), ('auth_user',), ('django_session',), ('core_robot',), ('core_test',)]\n"
     ]
    }
   ],
   "source": [
    "cursor.execute('SELECT name FROM sqlite_master WHERE type=\"table\"')\n",
    "print(cursor.fetchall())"
   ]
  },
  {
   "cell_type": "code",
   "execution_count": 3,
   "metadata": {},
   "outputs": [
    {
     "name": "stdout",
     "output_type": "stream",
     "text": [
      "(0, 'id', 'INTEGER', 1, None, 1)\n",
      "(1, 'img', 'varchar(100)', 0, None, 0)\n",
      "(2, 'message', 'varchar(10000)', 0, None, 0)\n",
      "(3, 'repeat', 'bool', 1, None, 0)\n",
      "(4, 'robot_id', 'bigint', 0, None, 0)\n",
      "(5, 'time', 'varchar(100)', 1, None, 0)\n",
      "(6, 'timeframe', 'varchar(50)', 1, None, 0)\n"
     ]
    }
   ],
   "source": [
    "cursor.execute('PRAGMA table_info(core_test)')\n",
    "# print(cursor.fetchall())\n",
    "for col in cursor.fetchall():\n",
    "    print(col)\n"
   ]
  },
  {
   "cell_type": "code",
   "execution_count": 50,
   "metadata": {},
   "outputs": [
    {
     "name": "stdout",
     "output_type": "stream",
     "text": [
      "(10, 'products/pngwing.com_17.png', 'this is the product of ofejiro agbaduta', 1, 4, '2025-02-1 04:40', 'weekly')\n",
      "(11, 'products/download_8.jpg', 'i am a scientist who is alway seeling for the truth', 0, 4, '2023-01-24 13:0444', 'monthly')\n",
      "(12, 'products/download_6.jpg', 'debbie is prime love', 0, 4, '2023-01-24 13:07:10', 'weekly')\n",
      "(13, 'products/images_4_joP1RbL.jpg', 'nosa is a boy', 1, 4, '2023-01-24 13:07', 'daily')\n"
     ]
    }
   ],
   "source": [
    "cursor.execute('SELECT * FROM core_test')\n",
    "# print(cursor.fetchall())\n",
    "for row in cursor.fetchall():\n",
    "    print(row)\n"
   ]
  },
  {
   "cell_type": "code",
   "execution_count": 67,
   "metadata": {},
   "outputs": [
    {
     "name": "stdout",
     "output_type": "stream",
     "text": [
      "(4, 'test bot', 'lunafire', 'bot7665034608:AAFCnrrjg_BIze0iavk3QEAwhHir8o0hDZs')\n"
     ]
    }
   ],
   "source": [
    "cursor.execute('SELECT * FROM core_robot')\n",
    "# print(cursor.fetchall())\n",
    "for row in cursor.fetchall():\n",
    "    print(row)"
   ]
  },
  {
   "cell_type": "code",
   "execution_count": 71,
   "metadata": {},
   "outputs": [
    {
     "name": "stdout",
     "output_type": "stream",
     "text": [
      "bot7665034608:AAFCnrrjg_BIze0iavk3QEAwhHir8o0hDZs\n",
      "bot7665034608:AAFCnrrjg_BIze0iavk3QEAwhHir8o0hDZs\n",
      "bot7665034608:AAFCnrrjg_BIze0iavk3QEAwhHir8o0hDZs\n",
      "bot7665034608:AAFCnrrjg_BIze0iavk3QEAwhHir8o0hDZs\n",
      "bot7665034608:AAFCnrrjg_BIze0iavk3QEAwhHir8o0hDZs\n",
      "bot7665034608:AAFCnrrjg_BIze0iavk3QEAwhHir8o0hDZs\n",
      "bot7665034608:AAFCnrrjg_BIze0iavk3QEAwhHir8o0hDZs\n",
      "bot7665034608:AAFCnrrjg_BIze0iavk3QEAwhHir8o0hDZs\n",
      "bot7665034608:AAFCnrrjg_BIze0iavk3QEAwhHir8o0hDZs\n",
      "bot7665034608:AAFCnrrjg_BIze0iavk3QEAwhHir8o0hDZs\n",
      "bot7665034608:AAFCnrrjg_BIze0iavk3QEAwhHir8o0hDZs\n",
      "bot7665034608:AAFCnrrjg_BIze0iavk3QEAwhHir8o0hDZs\n",
      "bot7665034608:AAFCnrrjg_BIze0iavk3QEAwhHir8o0hDZs\n",
      "bot7665034608:AAFCnrrjg_BIze0iavk3QEAwhHir8o0hDZs\n",
      "bot7665034608:AAFCnrrjg_BIze0iavk3QEAwhHir8o0hDZs\n",
      "bot7665034608:AAFCnrrjg_BIze0iavk3QEAwhHir8o0hDZs\n",
      "bot7665034608:AAFCnrrjg_BIze0iavk3QEAwhHir8o0hDZs\n",
      "bot7665034608:AAFCnrrjg_BIze0iavk3QEAwhHir8o0hDZs\n",
      "bot7665034608:AAFCnrrjg_BIze0iavk3QEAwhHir8o0hDZs\n",
      "bot7665034608:AAFCnrrjg_BIze0iavk3QEAwhHir8o0hDZs\n",
      "bot7665034608:AAFCnrrjg_BIze0iavk3QEAwhHir8o0hDZs\n",
      "bot7665034608:AAFCnrrjg_BIze0iavk3QEAwhHir8o0hDZs\n",
      "bot7665034608:AAFCnrrjg_BIze0iavk3QEAwhHir8o0hDZs\n",
      "bot7665034608:AAFCnrrjg_BIze0iavk3QEAwhHir8o0hDZs\n",
      "bot7665034608:AAFCnrrjg_BIze0iavk3QEAwhHir8o0hDZs\n",
      "bot7665034608:AAFCnrrjg_BIze0iavk3QEAwhHir8o0hDZs\n",
      "bot7665034608:AAFCnrrjg_BIze0iavk3QEAwhHir8o0hDZs\n",
      "bot7665034608:AAFCnrrjg_BIze0iavk3QEAwhHir8o0hDZs\n",
      "bot7665034608:AAFCnrrjg_BIze0iavk3QEAwhHir8o0hDZs\n",
      "bot7665034608:AAFCnrrjg_BIze0iavk3QEAwhHir8o0hDZs\n",
      "bot7665034608:AAFCnrrjg_BIze0iavk3QEAwhHir8o0hDZs\n",
      "bot7665034608:AAFCnrrjg_BIze0iavk3QEAwhHir8o0hDZs\n",
      "bot7665034608:AAFCnrrjg_BIze0iavk3QEAwhHir8o0hDZs\n",
      "bot7665034608:AAFCnrrjg_BIze0iavk3QEAwhHir8o0hDZs\n",
      "bot7665034608:AAFCnrrjg_BIze0iavk3QEAwhHir8o0hDZs\n",
      "bot7665034608:AAFCnrrjg_BIze0iavk3QEAwhHir8o0hDZs\n",
      "bot7665034608:AAFCnrrjg_BIze0iavk3QEAwhHir8o0hDZs\n",
      "bot7665034608:AAFCnrrjg_BIze0iavk3QEAwhHir8o0hDZs\n",
      "bot7665034608:AAFCnrrjg_BIze0iavk3QEAwhHir8o0hDZs\n",
      "bot7665034608:AAFCnrrjg_BIze0iavk3QEAwhHir8o0hDZs\n"
     ]
    },
    {
     "ename": "KeyboardInterrupt",
     "evalue": "",
     "output_type": "error",
     "traceback": [
      "\u001b[1;31m---------------------------------------------------------------------------\u001b[0m",
      "\u001b[1;31mKeyboardInterrupt\u001b[0m                         Traceback (most recent call last)",
      "Cell \u001b[1;32mIn[71], line 170\u001b[0m\n\u001b[0;32m    167\u001b[0m             task(img,message,bot_key)\n\u001b[0;32m    168\u001b[0m             \u001b[38;5;28mprint\u001b[39m(\u001b[38;5;124m'\u001b[39m\u001b[38;5;124mno repeat executed\u001b[39m\u001b[38;5;124m'\u001b[39m)\n\u001b[1;32m--> 170\u001b[0m \u001b[43mprime_time\u001b[49m\u001b[38;5;241;43m.\u001b[39;49m\u001b[43msleep\u001b[49m\u001b[43m(\u001b[49m\u001b[38;5;241;43m1\u001b[39;49m\u001b[43m)\u001b[49m\n",
      "\u001b[1;31mKeyboardInterrupt\u001b[0m: "
     ]
    }
   ],
   "source": [
    "# sending images\n",
    "import requests\n",
    "import datetime\n",
    "import pytz\n",
    "import time as prime_time\n",
    "\n",
    "def task(img,message,bot_key):\n",
    "    if img != 'products/pngwing.com_17.png':\n",
    "        print('-------------------Image Available-------------------')\n",
    "        key = bot_key\n",
    "        base_url = f\"https://api.telegram.org/{key}/SendPhoto\"\n",
    "        caption = message\n",
    "        image = img\n",
    "        img = f\"media/products/{image}\"\n",
    "\n",
    "        # parameter = {\n",
    "        #     \"chat_id\": '-4684228716',\n",
    "        #     \"caption\": caption\n",
    "        # }\n",
    "\n",
    "        # with open(img, \"rb\") as image_file:\n",
    "        #     res = requests.post(base_url, data=parameter, files={\"photo\": image_file})\n",
    "\n",
    "        # print(res.text)\n",
    "    else:\n",
    "        print('-------------------No Image-------------------')\n",
    "        key = bot_key\n",
    "        base_url = f\"https://api.telegram.org/{key}/SendMessage\"\n",
    "\n",
    "        # parameter = {\n",
    "        #     \"chat_id\": '-4684228716',\n",
    "        #     'text': message\n",
    "        # }\n",
    "\n",
    "        # res = requests.get(base_url, parameter)\n",
    "        # print(res.text)\n",
    "\n",
    "while True:\n",
    "    cursor.execute('SELECT * FROM core_test')\n",
    "    for row in cursor.fetchall():\n",
    "        id = row[0]\n",
    "        img = row[1]\n",
    "        message = row[2]\n",
    "        repeat = row[3]\n",
    "        robot_id = row[4]\n",
    "        time = row[5]\n",
    "        timeframe = row[6]\n",
    "\n",
    "        # bot_key = 'bot7665034608:AAFCnrrjg_BIze0iavk3QEAwhHir8o0hDZs'\n",
    "        # Fetch the bot key from core_robot using robot_id\n",
    "        cursor.execute('SELECT robot_key FROM core_robot WHERE id = ?', (robot_id,))\n",
    "        bot_key_result = cursor.fetchone()\n",
    "        \n",
    "        if bot_key_result:\n",
    "            bot_key = bot_key_result[0]  # Extract the key from the result\n",
    "            # print(bot_key)\n",
    "\n",
    "        wat_timezone = pytz.timezone('Africa/Lagos')\n",
    "        now_wat = datetime.datetime.now(wat_timezone)\n",
    "\n",
    "        if repeat == 1:\n",
    "            if timeframe == 'daily':\n",
    "                t = time.split(\" \")\n",
    "                set_time = t[1]\n",
    "                # print(set_time)\n",
    "                now_time = str(now_wat.strftime('%H:%M:%S'))\n",
    "                # print(now_time)\n",
    "                # print('current time', now_time)\n",
    "                # print('set time', set_time)\n",
    "\n",
    "                if now_time == set_time:\n",
    "                    task(img,message,bot_key)\n",
    "                    print('daily executed')\n",
    "                    \n",
    "\n",
    "            elif timeframe == 'weekly':\n",
    "                t = time.split(\" \")\n",
    "                set_date = t[0].split('-')\n",
    "                set_time = t[1]\n",
    "                year, month, day = set_date\n",
    "\n",
    "                # print(set_date)\n",
    "                # print(set_time)\n",
    "                # print(year,month,day)\n",
    "\n",
    "                date_obj = datetime.date(int(year),int(month),int(day))\n",
    "                day_name = date_obj.strftime(\"%A\")\n",
    "                now_time = now_wat.strftime('%H:%M:%S')\n",
    "                # print(day_name)\n",
    "\n",
    "                current_day = now_wat.strftime('%A')\n",
    "\n",
    "                if current_day == day_name and set_time == now_time:\n",
    "                    task(img,message,bot_key)\n",
    "                    print('weekly executed')\n",
    "\n",
    "\n",
    "            elif timeframe == 'monthly':\n",
    "                t = time.split(\" \")\n",
    "                set_date = t[0].split('-')\n",
    "                set_time = t[1]\n",
    "                year, month, day = set_date\n",
    "\n",
    "                # print(set_date)\n",
    "                # print(set_time)\n",
    "                # print(year,month,day)\n",
    "\n",
    "                date_obj = datetime.date(int(year),int(month),int(day))\n",
    "                day_name = date_obj.strftime(\"%A\")\n",
    "                now_time = now_wat.strftime('%H:%M:%S')\n",
    "                # print(day_name)\n",
    "\n",
    "                current_day = now_wat.strftime('%A')\n",
    "                current_month = now_wat.strftime('%m').strip()\n",
    "                set_month = month.strip()\n",
    "\n",
    "                if current_day == day_name and set_time == now_time and current_month == set_month:\n",
    "                    task(img,message,bot_key)\n",
    "                    print('monthly executed')\n",
    "\n",
    "                \n",
    "            elif timeframe == 'yearly':\n",
    "                t = time.split(\" \")\n",
    "                set_date = t[0].split('-')\n",
    "                set_time = t[1]\n",
    "                year, month, day = set_date\n",
    "\n",
    "                # print(set_date)\n",
    "                # print(set_time)\n",
    "                # print(year,month,day)\n",
    "\n",
    "                date_obj = datetime.date(int(year),int(month),int(day))\n",
    "                day_name = date_obj.strftime(\"%A\")\n",
    "                now_time = now_wat.strftime('%H:%M:%S')\n",
    "                # print(day_name)\n",
    "\n",
    "                current_day = now_wat.strftime('%A')\n",
    "                current_month = now_wat.strftime('%m').strip()\n",
    "                set_month = month.strip()\n",
    "                current_year = now_wat.strftime('%Y').strip()\n",
    "                set_year = year.strip()\n",
    "\n",
    "                if current_day == day_name and set_time == now_time and current_month == set_month and current_year == set_year:\n",
    "                    task(img,message,bot_key)\n",
    "                    print('yearly executed')\n",
    "\n",
    "            \n",
    "        else:\n",
    "            # print('--------------no repeat----------------')\n",
    "            t = time.split(\" \")\n",
    "            set_date = t[0].strip()\n",
    "            set_time = t[1].strip()\n",
    "\n",
    "\n",
    "            current_date = now_wat.strftime('%Y-%m-%d').strip()\n",
    "            current_time = now_wat.strftime('%H:%M:%S').strip()\n",
    "\n",
    "\n",
    "            # print('---------------------------------------------')\n",
    "            # print('set_time', set_time)\n",
    "            # print('current_time',current_time)\n",
    "            # print('-------------------------')\n",
    "            # print('set_date', set_date)\n",
    "            # print('current_date',current_date)\n",
    "\n",
    "            if set_date == current_date and set_time == current_time:\n",
    "                task(img,message,bot_key)\n",
    "                print('no repeat executed')\n",
    "\n",
    "    prime_time.sleep(1)\n",
    "\n"
   ]
  },
  {
   "cell_type": "code",
   "execution_count": 3,
   "metadata": {},
   "outputs": [],
   "source": [
    "conn.close()"
   ]
  },
  {
   "cell_type": "code",
   "execution_count": 6,
   "metadata": {},
   "outputs": [
    {
     "name": "stdout",
     "output_type": "stream",
     "text": [
      "prime\n",
      "1\n"
     ]
    }
   ],
   "source": [
    "x = [('prime',1)]\n",
    "\n",
    "for a,b in x:\n",
    "    print(a)\n",
    "    print(b)"
   ]
  }
 ],
 "metadata": {
  "kernelspec": {
   "display_name": "telegram",
   "language": "python",
   "name": "python3"
  },
  "language_info": {
   "codemirror_mode": {
    "name": "ipython",
    "version": 3
   },
   "file_extension": ".py",
   "mimetype": "text/x-python",
   "name": "python",
   "nbconvert_exporter": "python",
   "pygments_lexer": "ipython3",
   "version": "3.13.1"
  }
 },
 "nbformat": 4,
 "nbformat_minor": 2
}
